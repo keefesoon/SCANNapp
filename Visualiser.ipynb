{
 "cells": [
  {
   "cell_type": "code",
   "execution_count": 2,
   "metadata": {},
   "outputs": [],
   "source": [
    "# Read STEP File\n",
    "\n",
    "from OCC.Core.STEPControl import STEPControl_Reader\n",
    "\n",
    "\n",
    "def stepreader(filepath):\n",
    "    # STEP Reader object\n",
    "    step_reader = STEPControl_Reader()\n",
    "    # Read the file\n",
    "    status = step_reader.ReadFile(filepath)\n",
    "    \n",
    "    # Check if the file was read successfully\n",
    "    if status == 1:\n",
    "        print(\"STEP file loaded successfully!\")\n",
    "    else:\n",
    "        print(\"Failed to load STEP file.\")\n",
    "            \n",
    "    # Transfer STEP file content to a shape\n",
    "    step_reader.TransferRoots()\n",
    "    shape = step_reader.Shape()\n",
    "    return shape"
   ]
  },
  {
   "cell_type": "code",
   "execution_count": 3,
   "metadata": {},
   "outputs": [],
   "source": [
    "# Visualize\n",
    "\n",
    "from OCC.Display.SimpleGui import init_display\n",
    "from OCC.Core.Quantity import Quantity_Color, Quantity_TOC_RGB\n",
    "\n",
    "def visualizer(shape,faces):\n",
    "    # Initialize the viewer\n",
    "    display, start_display, add_menu, add_function_to_menu = init_display()\n",
    "\n",
    "    # Display the shape\n",
    "    display.DisplayShape(shape, update=True)\n",
    "\n",
    "    # Highlight outer surfaces\n",
    "    highlight_color = Quantity_Color(0.0, 1.0, 0.0, Quantity_TOC_RGB)  # Green color for highlighting\n",
    "    for face in faces:\n",
    "        display.DisplayShape(face, color=highlight_color, update=True)\n",
    "\n",
    "    # Start the viewer\n",
    "    start_display()"
   ]
  },
  {
   "cell_type": "code",
   "execution_count": 4,
   "metadata": {},
   "outputs": [],
   "source": [
    "# Make Displaying Easier\n",
    "\n",
    "from OCC.Core.BRep import BRep_Builder\n",
    "from OCC.Core.TopoDS import TopoDS_Compound\n",
    "\n",
    "def create_compound_from_faces(faces):\n",
    "    \"\"\"\n",
    "    Creates a compound shape from a list of faces.\n",
    "    \n",
    "    Parameters:\n",
    "        faces (list of TopoDS_Face): The faces to group.\n",
    "\n",
    "    Returns:\n",
    "        TopoDS_Compound: The compound shape.\n",
    "    \"\"\"\n",
    "    builder = BRep_Builder()\n",
    "    compound = TopoDS_Compound()\n",
    "    builder.MakeCompound(compound)\n",
    "\n",
    "    for face in faces:\n",
    "        builder.Add(compound, face)\n",
    "    \n",
    "    return compound"
   ]
  },
  {
   "cell_type": "code",
   "execution_count": 5,
   "metadata": {},
   "outputs": [
    {
     "ename": "",
     "evalue": "",
     "output_type": "error",
     "traceback": [
      "\u001b[1;31mThe Kernel crashed while executing code in the the current cell or a previous cell. Please review the code in the cell(s) to identify a possible cause of the failure. Click <a href='https://aka.ms/vscodeJupyterKernelCrash'>here</a> for more info. View Jupyter <a href='command:jupyter.viewOutput'>log</a> for further details."
     ]
    },
    {
     "ename": "",
     "evalue": "",
     "output_type": "error",
     "traceback": [
      "\u001b[1;31mCanceled future for execute_request message before replies were done"
     ]
    }
   ],
   "source": [
    "# Main\n",
    "\n",
    "shape = stepreader('78Q5623test.STEP')\n",
    "faces = []\n",
    "visualizer(shape,faces)"
   ]
  }
 ],
 "metadata": {
  "kernelspec": {
   "display_name": "base",
   "language": "python",
   "name": "python3"
  },
  "language_info": {
   "codemirror_mode": {
    "name": "ipython",
    "version": 3
   },
   "file_extension": ".py",
   "mimetype": "text/x-python",
   "name": "python",
   "nbconvert_exporter": "python",
   "pygments_lexer": "ipython3",
   "version": "3.12.2"
  },
  "vscode": {
   "interpreter": {
    "hash": "40d3a090f54c6569ab1632332b64b2c03c39dcf918b08424e98f38b5ae0af88f"
   }
  }
 },
 "nbformat": 4,
 "nbformat_minor": 2
}
